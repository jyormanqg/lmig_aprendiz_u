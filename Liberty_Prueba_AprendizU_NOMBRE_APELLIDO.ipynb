{
 "cells": [
  {
   "cell_type": "markdown",
   "id": "f9710fd9-5c46-4901-a3e6-91d9088061c3",
   "metadata": {},
   "source": [
    "## Ejercicios.\n",
    "\n",
    "Los datos provistos son datos ficticios que representan los pagos que realiza una compañia de seguros para cada uno de los siniestros reportados durante el mes de Enero del Año 2023.\n",
    "\n",
    "1. Cargue los datos que se encuentran en la carpeta `data`, tanto el archivo de `claims.csv`, como los archivos de `claims_payments.csv`.\n",
    "2. Remueva los duplicados, y conserve unicamente un único registro por `claim_id`, y este, deberá ser el registro más nuevo de la base de datos según `claim_date`, y resuelva los siguientes puntos en base a este nuevo dataset.\n",
    "3. Una vez realice este proceso, deberá responder las siguientes preguntas:\n",
    "   1. Cuantos siniestros distintos han ocurrido por cada uno de los días?\n",
    "   2. Existen días que no tienen ningún siniestro? Cuales son estos?\n",
    "   3. Cuantos registros tienen **nulos** en su campo `claim_date`?. Que porcentaje del total de la base representan?\n",
    "   4. Cuál es el día que tiene **más**, y el día que tiene **menos** siniestros reportados? Que porcentage de del total de la base representa?\n",
    "   5. Cuál es la marca de vehiculos que **más** presenta siniestros, y cual es la marca que **menos** siniestros presenta?\n",
    "   6. Cuál es el valor de pago más alto que ha realizado la compañia?\n",
    "   7. Muestre por marca de vehículo, los valores de pagos realizados por concepto de `PÉRDIDA PARCIAL`.\n",
    "   8. Cuál es son los **3 primeros** tipos de pagos **más** frecuente en la compañia?\n",
    "   9. Cuál es el número de días **mínimo, máximo**, y **promedio**, que han transcurrido entre un siniestro y el pago de la compañia?\n",
    "   10. Cuantos siniestros aún no han recibido ningún pago de la compañia? Que porcentaje de la base representan?\n",
    "\n",
    "4. Exporte el archivo consolidado, el cual contiene para cada `claim_id` la información de los pagos realizados por la compañia. Cada archivo se debe guardar por día, usando la siguiente nomenclatura: `payment_report_yyyy_mm_dd.csv`, donde `yyyy` hace referencia al año del siniestro, `mm` representa el mes del siniestro y `dd` representa el día del siniestro. Ejemplo: `payment_report_2023_01_05.csv`, `payment_report_2023_01_06.csv`, `...`.\n",
    "5. Mueva los archivos que exportó a la carpeta `reporting`, usando Python."
   ]
  },
  {
   "cell_type": "markdown",
   "id": "600127e8-3c71-4ccc-9558-5fc40952c2dd",
   "metadata": {},
   "source": [
    "## Solución"
   ]
  },
  {
   "cell_type": "code",
   "execution_count": 1,
   "id": "db0c7811-e2fe-488d-a87a-3986e18bd260",
   "metadata": {},
   "outputs": [],
   "source": [
    "import pandas as pd\n",
    "import numpy as np"
   ]
  }
 ],
 "metadata": {
  "kernelspec": {
   "display_name": "Python 3 (ipykernel)",
   "language": "python",
   "name": "python3"
  },
  "language_info": {
   "codemirror_mode": {
    "name": "ipython",
    "version": 3
   },
   "file_extension": ".py",
   "mimetype": "text/x-python",
   "name": "python",
   "nbconvert_exporter": "python",
   "pygments_lexer": "ipython3",
   "version": "3.12.0"
  }
 },
 "nbformat": 4,
 "nbformat_minor": 5
}
